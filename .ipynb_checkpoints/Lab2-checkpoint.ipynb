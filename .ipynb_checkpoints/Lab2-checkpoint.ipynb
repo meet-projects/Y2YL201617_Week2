{
 "metadata": {
  "anaconda-cloud": {},
  "kernelspec": {
   "display_name": "Python [Root]",
   "language": "python",
   "name": "Python [Root]"
  },
  "language_info": {
   "codemirror_mode": {
    "name": "ipython",
    "version": 3
   },
   "file_extension": ".py",
   "mimetype": "text/x-python",
   "name": "python",
   "nbconvert_exporter": "python",
   "pygments_lexer": "ipython3",
   "version": "3.5.2"
  },
  "name": "",
  "signature": "sha256:c918331077d090baf1e885d6493f6fa4eab3fbf095479852e38136425c00521c"
 },
 "nbformat": 3,
 "nbformat_minor": 0,
 "worksheets": [
  {
   "cells": [
    {
     "cell_type": "heading",
     "level": 1,
     "metadata": {},
     "source": [
      "Week 2 Activity"
     ]
    },
    {
     "cell_type": "markdown",
     "metadata": {},
     "source": [
      "Please write your names here: ron and ilin "
     ]
    },
    {
     "cell_type": "markdown",
     "metadata": {},
     "source": [
      "__Paste the solution for your warm-up exercise here:__"
     ]
    },
    {
     "cell_type": "code",
     "collapsed": true,
     "input": [
      "def shift_on_character(string, char):\n",
      "\n",
      "\tif(char in string):\n",
      "\n",
      "\t\tindex = string.index(char)\n",
      "\t\tnew_string = string[index:] + string[:index]\n",
      "\n",
      "\n",
      "\t\treturn new_string\n",
      "\n",
      "\n",
      "\telse:\n",
      "\t\treturn string + \" lorenzo told me to do it!\"\n",
      "\n",
      "'''\n",
      "TEST\n",
      "'''\n",
      "print(shift_on_character(\"apple\", 'n'))\n",
      "\n",
      "\n",
      "\n"
     ],
     "language": "python",
     "metadata": {},
     "outputs": [],
     "prompt_number": null
    },
    {
     "cell_type": "markdown",
     "metadata": {},
     "source": [
      "Question 1:  What is the difference between a startup and a company?  "
     ]
    },
    {
     "cell_type": "markdown",
     "metadata": {},
     "source": [
      "A startup is searches for what the customers want and their segmentation, whereas a company executes."
     ]
    },
    {
     "cell_type": "markdown",
     "metadata": {},
     "source": [
      "Question 2: Do Some Research- What are some other reasons that startups fail? Show some statistics and cite your resources"
     ]
    },
    {
     "cell_type": "markdown",
     "metadata": {},
     "source": [
      "Nine out of ten startups fail. 90%. reasons include:\n",
      "- Lack of market need for their product\n",
      "- market isnt educated enough\n",
      "-not the right resources \n",
      "- not right advertising "
     ]
    },
    {
     "cell_type": "heading",
     "level": 1,
     "metadata": {},
     "source": [
      "Part 2: Automation with Python"
     ]
    },
    {
     "cell_type": "markdown",
     "metadata": {},
     "source": [
      "_Skim through Chapter 17 (pages 387-400) in [\"Automate the Boring Stuff with Python\"](https://drive.google.com/open?id=0B93BAIhSTZr0dFdERUJZbHRzSmc) as reference for these exercises_ "
     ]
    },
    {
     "cell_type": "markdown",
     "metadata": {},
     "source": [
      "## Step 1:  Colors & RGBA Values\n",
      "Using the Image class from the PIL library, make a solid fuchsia image that is 300 x 400 pixels and display it below."
     ]
    },
    {
     "cell_type": "code",
     "collapsed": false,
     "input": [
      "from PIL import Image\n",
      "im = Image.new('RGBA', (300, 400), 'fuchsia')\n",
      "im.save('pinkImage.png')\n",
      "im"
     ],
     "language": "python",
     "metadata": {},
     "outputs": [
      {
       "metadata": {},
       "output_type": "pyout",
       "png": "[encoded data removed]",
       "prompt_number": 4,
       "text": [
        "<PIL.Image.Image image mode=RGBA size=300x400 at 0x7F477BAAA990>"
       ]
      }
     ],
     "prompt_number": 4
    },
    {
     "cell_type": "markdown",
     "metadata": {},
     "source": [
      "## Step 2:  Manipulating Images \n",
      "* __Snap a selfie with you and your partner and email it to yourself__\n",
      "* __Open it and save it in the Week 2 folder as \"friends.jpg(or .png)\"__\n",
      "* __Try and execute the code below to see if you can open your image with Pillow__"
     ]
    },
    {
     "cell_type": "code",
     "collapsed": true,
     "input": [
      "from PIL import Image\n",
      "im = Image.open('friends.jpg')\n",
      "im\n"
     ],
     "language": "python",
     "metadata": {},
     "outputs": [
      {
       "ename": "IOError",
       "evalue": "[Errno 2] No such file or directory: 'friends.jpg'",
       "output_type": "pyerr",
       "traceback": [
        "\u001b[0;31m---------------------------------------------------------------------------\u001b[0m\n\u001b[0;31mIOError\u001b[0m                                   Traceback (most recent call last)",
        "\u001b[0;32m<ipython-input-5-0adb0a670d17>\u001b[0m in \u001b[0;36m<module>\u001b[0;34m()\u001b[0m\n\u001b[1;32m      1\u001b[0m \u001b[0;32mfrom\u001b[0m \u001b[0mPIL\u001b[0m \u001b[0;32mimport\u001b[0m \u001b[0mImage\u001b[0m\u001b[0;34m\u001b[0m\u001b[0m\n\u001b[0;32m----> 2\u001b[0;31m \u001b[0mim\u001b[0m \u001b[0;34m=\u001b[0m \u001b[0mImage\u001b[0m\u001b[0;34m.\u001b[0m\u001b[0mopen\u001b[0m\u001b[0;34m(\u001b[0m\u001b[0;34m'friends.jpg'\u001b[0m\u001b[0;34m)\u001b[0m\u001b[0;34m\u001b[0m\u001b[0m\n\u001b[0m\u001b[1;32m      3\u001b[0m \u001b[0mim\u001b[0m\u001b[0;34m\u001b[0m\u001b[0m\n",
        "\u001b[0;32m/usr/local/lib/python2.7/dist-packages/PIL/Image.pyc\u001b[0m in \u001b[0;36mopen\u001b[0;34m(fp, mode)\u001b[0m\n\u001b[1;32m   2280\u001b[0m \u001b[0;34m\u001b[0m\u001b[0m\n\u001b[1;32m   2281\u001b[0m     \u001b[0;32mif\u001b[0m \u001b[0mfilename\u001b[0m\u001b[0;34m:\u001b[0m\u001b[0;34m\u001b[0m\u001b[0m\n\u001b[0;32m-> 2282\u001b[0;31m         \u001b[0mfp\u001b[0m \u001b[0;34m=\u001b[0m \u001b[0mbuiltins\u001b[0m\u001b[0;34m.\u001b[0m\u001b[0mopen\u001b[0m\u001b[0;34m(\u001b[0m\u001b[0mfilename\u001b[0m\u001b[0;34m,\u001b[0m \u001b[0;34m\"rb\"\u001b[0m\u001b[0;34m)\u001b[0m\u001b[0;34m\u001b[0m\u001b[0m\n\u001b[0m\u001b[1;32m   2283\u001b[0m \u001b[0;34m\u001b[0m\u001b[0m\n\u001b[1;32m   2284\u001b[0m     \u001b[0;32mtry\u001b[0m\u001b[0;34m:\u001b[0m\u001b[0;34m\u001b[0m\u001b[0m\n",
        "\u001b[0;31mIOError\u001b[0m: [Errno 2] No such file or directory: 'friends.jpg'"
       ]
      }
     ],
     "prompt_number": 5
    },
    {
     "cell_type": "markdown",
     "metadata": {},
     "source": [
      "### Cropping Images\n",
      "Crop the image such that only your faces are in the picture. Show the cropped image in your ipython notebook"
     ]
    },
    {
     "cell_type": "code",
     "collapsed": true,
     "input": [],
     "language": "python",
     "metadata": {},
     "outputs": [],
     "prompt_number": null
    },
    {
     "cell_type": "markdown",
     "metadata": {},
     "source": [
      "### Image Patterns\n",
      "Use a nested for loop similar to the one on page 396 to create a repeated pattern of your team selfie and save it as \"2friends.jpg(or .png)\""
     ]
    },
    {
     "cell_type": "code",
     "collapsed": true,
     "input": [],
     "language": "python",
     "metadata": {},
     "outputs": [],
     "prompt_number": null
    },
    {
     "cell_type": "markdown",
     "metadata": {},
     "source": [
      "### Flip, Rotate, & Resize\n",
      "\n",
      "Use the examples on pages 398-400.\n",
      "\n",
      "* __ Learn how to flip your image 90 and 180 degrees.__  \n",
      "\n",
      "* __ Resize your image such that it is 300 x 300 pixels __\n",
      "\n",
      "* __Create a function called _FlipImage(path,degrees)_ that takes an image file path and an integer as inputs and will rotate the image by the specified degree amount__"
     ]
    },
    {
     "cell_type": "code",
     "collapsed": true,
     "input": [],
     "language": "python",
     "metadata": {},
     "outputs": [],
     "prompt_number": null
    },
    {
     "cell_type": "markdown",
     "metadata": {},
     "source": [
      "## Step 3:  Adding a Logo\n",
      "Inside your repository you have a folder full of different versions of the MEET logo. Choose a logo and add it to your image. "
     ]
    },
    {
     "cell_type": "code",
     "collapsed": true,
     "input": [],
     "language": "python",
     "metadata": {},
     "outputs": [],
     "prompt_number": null
    },
    {
     "cell_type": "markdown",
     "metadata": {},
     "source": [
      "## Extra Credit 1: Making Filters\n",
      "Do some research and see if you can create some Snapchat-like filters for your images.  Show your results below"
     ]
    },
    {
     "cell_type": "code",
     "collapsed": true,
     "input": [],
     "language": "python",
     "metadata": {},
     "outputs": [],
     "prompt_number": null
    },
    {
     "cell_type": "markdown",
     "metadata": {},
     "source": [
      "## Extra Credit 2:  Drawing on Images\n",
      "Add shapes and fun stickers on top of your images as well"
     ]
    },
    {
     "cell_type": "code",
     "collapsed": true,
     "input": [],
     "language": "python",
     "metadata": {},
     "outputs": [],
     "prompt_number": null
    },
    {
     "cell_type": "markdown",
     "metadata": {},
     "source": [
      "## Extra Credit 3:  Batch Image Processing\n",
      "\n",
      "Say you have the boring job of resizing thousands of images and adding a small logo watermark to the corner of each. Doing this with a basic graphics program such as Paintbrush or Paint would take forever. A fancier graphics application such as Photoshop can do batch processing, but that software costs hundreds of dollars. Let\u2019s write a script to do it instead.\n",
      "Say that you want to add to a random meet logo to the bottom-right corner of each image\n",
      "\n",
      "At a high level, here\u2019s what the program should do:\n",
      "* Load the logo image.\n",
      "* Loop over all .png and.jpg  les in the working directory.\n",
      "* Check whether the image is wider or taller than 300 pixels.\n",
      "* If so, reduce the width or height (whichever is larger) to 300 pixels and scale down the other dimension proportionally.\n",
      "* Paste the logo image into the corner.\n",
      "* Save the altered images to another folder.\n",
      "\n",
      "\n",
      "This means the code will need to do the following:\n",
      "* Open the meet logo as an Image object.\n",
      "* Loop over the strings returned from os.listdir('.').\n",
      "* Get the width and height of the image from the size attribute.\n",
      "* Calculate the new width and height of the resized image.\n",
      "* Call the resize() method to resize the image.\n",
      "* Call the paste() method to paste the logo.\n",
      "* Call the save() method to save the changes, using the original name.\n",
      "\n",
      "Get some of your classmates to share some different images with you so you can test out your new automation tool."
     ]
    },
    {
     "cell_type": "markdown",
     "metadata": {},
     "source": [
      "_Please remember to save your work, commit, push, and pull request, and clean up anything you downloaded onto the desktop_"
     ]
    }
   ],
   "metadata": {}
  }
 ]
}